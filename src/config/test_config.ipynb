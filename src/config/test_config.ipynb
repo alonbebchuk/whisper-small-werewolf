{
 "cells": [
  {
   "cell_type": "code",
   "execution_count": null,
   "metadata": {},
   "outputs": [],
   "source": [
    "from get_config import BERT_CONFIG, get_config, WHISPER_CONFIG"
   ]
  },
  {
   "cell_type": "code",
   "execution_count": 2,
   "metadata": {},
   "outputs": [
    {
     "data": {
      "text/plain": [
       "dataset:\n",
       "  name: iohadrubin/werewolf_dialogue_data_10sec\n",
       "  prompt_prefix_format: 'You are an expert in dialogue strategy analysis. Review the\n",
       "    conversation below and determine if the final utterance aligns with the specific\n",
       "    strategy: \"{strategy}\".\n",
       "\n",
       "    Consider the full context of the dialogue as you assess the intent behind the\n",
       "    final statement.\n",
       "\n",
       "    Dialogue:\n",
       "\n",
       "    '\n",
       "  prompt_suffix_format: 'Based on your analysis, does the final utterance conform\n",
       "    to the strategy \"{strategy}\"?\n",
       "\n",
       "    Answer with a single word: Yes or No.\n",
       "\n",
       "    '\n",
       "  strategies: !!set\n",
       "    Accusation: null\n",
       "    Call for Action: null\n",
       "    Defense: null\n",
       "    Evidence: null\n",
       "    Identity Declaration: null\n",
       "    Interrogation: null\n",
       "    No Strategy: null\n",
       "  use_dialogue: true\n",
       "evaluation:\n",
       "  batch_size: 64\n",
       "  eval_freq: 20\n",
       "  eval_steps: 5\n",
       "metrics:\n",
       "  rolling_average_window: 10\n",
       "model:\n",
       "  max_seq_len: 448\n",
       "  name: google-bert/bert-base-cased\n",
       "  use_audio: false\n",
       "training:\n",
       "  b2: 0.95\n",
       "  batch_size: 64\n",
       "  lr: 5e-5\n",
       "  total_steps: 1000\n",
       "  warmup_steps: 100\n",
       "  wd: 0.01"
      ]
     },
     "execution_count": 2,
     "metadata": {},
     "output_type": "execute_result"
    }
   ],
   "source": [
    "bert_config = get_config(BERT_CONFIG)\n",
    "bert_config"
   ]
  },
  {
   "cell_type": "code",
   "execution_count": 3,
   "metadata": {},
   "outputs": [
    {
     "data": {
      "text/plain": [
       "dataset:\n",
       "  name: iohadrubin/werewolf_dialogue_data_10sec\n",
       "  prompt_prefix_format: 'You are an expert in dialogue strategy analysis. The dialogue\n",
       "    below is a transcript derived from an audio conversation, and the original audio\n",
       "    is also available for context. Carefully review the transcript and listen to the\n",
       "    audio to capture all nuances and context. Determine whether the final utterance\n",
       "    aligns with the specific strategy: \"{strategy}\".\n",
       "\n",
       "    Dialogue:\n",
       "\n",
       "    '\n",
       "  prompt_suffix_format: 'Based on your analysis of the transcript and audio, does\n",
       "    the final utterance conform to the strategy \"{strategy}\"?\n",
       "\n",
       "    Answer with a single word: Yes or No.\n",
       "\n",
       "    '\n",
       "  strategies: !!set\n",
       "    Accusation: null\n",
       "    Call for Action: null\n",
       "    Defense: null\n",
       "    Evidence: null\n",
       "    Identity Declaration: null\n",
       "    Interrogation: null\n",
       "    No Strategy: null\n",
       "  use_audio: true\n",
       "  use_dialogue: true\n",
       "evaluation:\n",
       "  batch_size: 64\n",
       "  eval_freq: 20\n",
       "  eval_steps: 5\n",
       "metrics:\n",
       "  rolling_average_window: 10\n",
       "model:\n",
       "  max_audio_array_len: 480000\n",
       "  max_seq_len: 448\n",
       "  name: openai/whisper-small\n",
       "  sampling_rate: 16000\n",
       "  use_audio: true\n",
       "training:\n",
       "  b2: 0.95\n",
       "  batch_size: 64\n",
       "  lr: 5e-5\n",
       "  total_steps: 1000\n",
       "  warmup_steps: 100\n",
       "  wd: 0.01"
      ]
     },
     "execution_count": 3,
     "metadata": {},
     "output_type": "execute_result"
    }
   ],
   "source": [
    "whisper_audio_dialogue_config = get_config(WHISPER_CONFIG(True, True))\n",
    "whisper_audio_dialogue_config"
   ]
  },
  {
   "cell_type": "code",
   "execution_count": 4,
   "metadata": {},
   "outputs": [
    {
     "data": {
      "text/plain": [
       "dataset:\n",
       "  name: iohadrubin/werewolf_dialogue_data_10sec\n",
       "  prompt_prefix_format: 'You are an expert in dialogue strategy analysis. You are\n",
       "    provided with an audio recording of a conversation. Carefully listen to the audio\n",
       "    to capture all nuances and context. Determine whether the final utterance in the\n",
       "    conversation aligns with the specific strategy: \"{strategy}\".\n",
       "\n",
       "    '\n",
       "  prompt_suffix_format: 'Based on your analysis of the audio, does the final utterance\n",
       "    conform to the strategy \"{strategy}\"?\n",
       "\n",
       "    Answer with a single word: Yes or No.\n",
       "\n",
       "    '\n",
       "  strategies: !!set\n",
       "    Accusation: null\n",
       "    Call for Action: null\n",
       "    Defense: null\n",
       "    Evidence: null\n",
       "    Identity Declaration: null\n",
       "    Interrogation: null\n",
       "    No Strategy: null\n",
       "  use_audio: true\n",
       "  use_dialogue: false\n",
       "evaluation:\n",
       "  batch_size: 64\n",
       "  eval_freq: 20\n",
       "  eval_steps: 5\n",
       "metrics:\n",
       "  rolling_average_window: 10\n",
       "model:\n",
       "  max_audio_array_len: 480000\n",
       "  max_seq_len: 448\n",
       "  name: openai/whisper-small\n",
       "  sampling_rate: 16000\n",
       "  use_audio: true\n",
       "training:\n",
       "  b2: 0.95\n",
       "  batch_size: 64\n",
       "  lr: 5e-5\n",
       "  total_steps: 1000\n",
       "  warmup_steps: 100\n",
       "  wd: 0.01"
      ]
     },
     "execution_count": 4,
     "metadata": {},
     "output_type": "execute_result"
    }
   ],
   "source": [
    "whisper_audio_config = get_config(WHISPER_CONFIG(True, False))\n",
    "whisper_audio_config"
   ]
  },
  {
   "cell_type": "code",
   "execution_count": 5,
   "metadata": {},
   "outputs": [
    {
     "data": {
      "text/plain": [
       "dataset:\n",
       "  name: iohadrubin/werewolf_dialogue_data_10sec\n",
       "  prompt_prefix_format: 'You are an expert in dialogue strategy analysis. You are\n",
       "    provided with a transcript of a conversation. Carefully review the transcript\n",
       "    to capture all nuances and context. Determine whether the final utterance in the\n",
       "    conversation aligns with the specific strategy: \"{strategy}\".\n",
       "\n",
       "    Dialogue:\n",
       "\n",
       "    '\n",
       "  prompt_suffix_format: 'Based on your analysis of the transcript, does the final\n",
       "    utterance conform to the strategy \"{strategy}\"?\n",
       "\n",
       "    Answer with a single word: Yes or No.\n",
       "\n",
       "    '\n",
       "  strategies: !!set\n",
       "    Accusation: null\n",
       "    Call for Action: null\n",
       "    Defense: null\n",
       "    Evidence: null\n",
       "    Identity Declaration: null\n",
       "    Interrogation: null\n",
       "    No Strategy: null\n",
       "  use_audio: false\n",
       "  use_dialogue: true\n",
       "evaluation:\n",
       "  batch_size: 64\n",
       "  eval_freq: 20\n",
       "  eval_steps: 5\n",
       "metrics:\n",
       "  rolling_average_window: 10\n",
       "model:\n",
       "  max_audio_array_len: 480000\n",
       "  max_seq_len: 448\n",
       "  name: openai/whisper-small\n",
       "  sampling_rate: 16000\n",
       "  use_audio: true\n",
       "training:\n",
       "  b2: 0.95\n",
       "  batch_size: 64\n",
       "  lr: 5e-5\n",
       "  total_steps: 1000\n",
       "  warmup_steps: 100\n",
       "  wd: 0.01"
      ]
     },
     "execution_count": 5,
     "metadata": {},
     "output_type": "execute_result"
    }
   ],
   "source": [
    "whisper_dialogue_config = get_config(WHISPER_CONFIG(False, True))\n",
    "whisper_dialogue_config"
   ]
  },
  {
   "cell_type": "code",
   "execution_count": 6,
   "metadata": {},
   "outputs": [
    {
     "name": "stdout",
     "output_type": "stream",
     "text": [
      "Bert Prompt\n",
      "You are an expert in dialogue strategy analysis. Review the conversation below and determine if the final utterance aligns with the specific strategy: \"Accusation\".\n",
      "Consider the full context of the dialogue as you assess the intent behind the final statement.\n",
      "Dialogue:\n",
      "___Based on your analysis, does the final utterance conform to the strategy \"Accusation\"?\n",
      "Answer with a single word: Yes or No.\n",
      "___\n",
      "\n",
      "Whisper Audio+Dialogue Prompt\n",
      "You are an expert in dialogue strategy analysis. The dialogue below is a transcript derived from an audio conversation, and the original audio is also available for context. Carefully review the transcript and listen to the audio to capture all nuances and context. Determine whether the final utterance aligns with the specific strategy: \"Accusation\".\n",
      "Dialogue:\n",
      "___Based on your analysis of the transcript and audio, does the final utterance conform to the strategy \"Accusation\"?\n",
      "Answer with a single word: Yes or No.\n",
      "___\n",
      "\n",
      "Whisper Audio Prompt\n",
      "You are an expert in dialogue strategy analysis. You are provided with an audio recording of a conversation. Carefully listen to the audio to capture all nuances and context. Determine whether the final utterance in the conversation aligns with the specific strategy: \"Accusation\".\n",
      "Based on your analysis of the audio, does the final utterance conform to the strategy \"Accusation\"?\n",
      "Answer with a single word: Yes or No.\n",
      "___\n",
      "\n",
      "Whisper Dialogue Prompt\n",
      "You are an expert in dialogue strategy analysis. You are provided with a transcript of a conversation. Carefully review the transcript to capture all nuances and context. Determine whether the final utterance in the conversation aligns with the specific strategy: \"Accusation\".\n",
      "Dialogue:\n",
      "___Based on your analysis of the transcript, does the final utterance conform to the strategy \"Accusation\"?\n",
      "Answer with a single word: Yes or No.\n",
      "___\n",
      "\n"
     ]
    }
   ],
   "source": [
    "print(\"Bert Prompt\")\n",
    "print(bert_config.dataset.prompt_prefix_format.format(strategy=\"Accusation\") + \"___\" + bert_config.dataset.prompt_suffix_format.format(strategy=\"Accusation\") + \"___\")\n",
    "print()\n",
    "print(\"Whisper Audio+Dialogue Prompt\")\n",
    "print(whisper_audio_dialogue_config.dataset.prompt_prefix_format.format(strategy=\"Accusation\") + \"___\" + whisper_audio_dialogue_config.dataset.prompt_suffix_format.format(strategy=\"Accusation\") + \"___\")\n",
    "print()\n",
    "print(\"Whisper Audio Prompt\")\n",
    "print(whisper_audio_config.dataset.prompt_prefix_format.format(strategy=\"Accusation\") + whisper_audio_config.dataset.prompt_suffix_format.format(strategy=\"Accusation\") + \"___\")\n",
    "print()\n",
    "print(\"Whisper Dialogue Prompt\")\n",
    "print(whisper_dialogue_config.dataset.prompt_prefix_format.format(strategy=\"Accusation\") + \"___\" + whisper_dialogue_config.dataset.prompt_suffix_format.format(strategy=\"Accusation\") + \"___\")\n",
    "print()"
   ]
  }
 ],
 "metadata": {
  "kernelspec": {
   "display_name": "Python 3",
   "language": "python",
   "name": "python3"
  },
  "language_info": {
   "codemirror_mode": {
    "name": "ipython",
    "version": 3
   },
   "file_extension": ".py",
   "mimetype": "text/x-python",
   "name": "python",
   "nbconvert_exporter": "python",
   "pygments_lexer": "ipython3",
   "version": "3.10.16"
  }
 },
 "nbformat": 4,
 "nbformat_minor": 2
}
