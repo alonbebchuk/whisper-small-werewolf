{
 "cells": [
  {
   "cell_type": "code",
   "execution_count": 32,
   "metadata": {},
   "outputs": [],
   "source": [
    "import numpy as np\n",
    "import pandas as pd\n",
    "from datasets import load_dataset\n",
    "\n",
    "# Load the dataset with streaming=True\n",
    "dataset = load_dataset(\"alonbeb/werewolf_dataset\", streaming=True)"
   ]
  },
  {
   "cell_type": "code",
   "execution_count": 38,
   "metadata": {},
   "outputs": [],
   "source": [
    "\n",
    "options = ['Accusation', 'Defense', 'Evidence', 'Identity Declaration', 'Interrogation', 'No Strategy','Call for Action']\n",
    "\n",
    "def get_dialogue(example):\n",
    "    return example[\"prompt\"].split(\"```\")[-2].strip()\n",
    "\n",
    "def generate_new_targets(datum):\n",
    "    has_yes = False\n",
    "    targets = [x.strip(\"'\").strip() for x in datum[\"completion\"].split(\", \")]\n",
    "    for option in options:\n",
    "        if option in targets:\n",
    "            new_target = \"Yes\"\n",
    "            has_yes = True\n",
    "        else:\n",
    "            new_target = \"No\"\n",
    "        dialogue = get_dialogue(datum)\n",
    "        yield new_target, dialogue,option\n",
    "    assert has_yes, f'{datum[\"completion\"]}'\n",
    "    \n",
    "def gen(dataset):\n",
    "    for datum in dataset:\n",
    "        yield from generate_new_targets(datum)\n",
    "examples = list(gen(dataset[\"train\"].take(100)))"
   ]
  },
  {
   "cell_type": "code",
   "execution_count": 22,
   "metadata": {},
   "outputs": [
    {
     "name": "stdout",
     "output_type": "stream",
     "text": [
      "Reminder - Assign one or more of the following tags to the last utterance (delimited by commas):\n",
      "'Accusation', 'Defense', 'Evidence', 'Identity Declaration', 'Interrogation', 'No Strategy'\n",
      "Assignment:\n"
     ]
    }
   ],
   "source": [
    "print(datum.prompt.split(\"```\")[-1].strip())"
   ]
  },
  {
   "cell_type": "code",
   "execution_count": 19,
   "metadata": {},
   "outputs": [
    {
     "data": {
      "text/plain": [
       "[\"\\nMitchell: What is that?\\nJames: Can't find my ginger ale with my eyes closed.\\n\",\n",
       " \"\\nMitchell: What is that?\\nJames: Can't find my ginger ale with my eyes closed.\\nPaul: Don't. Don't find your ginger ale with your eyes closed.\\n\",\n",
       " \"\\nMitchell: What is that?\\nJames: Can't find my ginger ale with my eyes closed.\\nPaul: Don't. Don't find your ginger ale with your eyes closed.\\nJames: Where is it?\\n\",\n",
       " '\\nMitchell: What is that?\\nJames: Can\\'t find my ginger ale with my eyes closed.\\nPaul: Don\\'t. Don\\'t find your ginger ale with your eyes closed.\\nJames: Where is it?\\nJustin: Just, \"oops\".\\n',\n",
       " '\\nMitchell: What is that?\\nJames: Can\\'t find my ginger ale with my eyes closed.\\nPaul: Don\\'t. Don\\'t find your ginger ale with your eyes closed.\\nJames: Where is it?\\nJustin: Just, \"oops\".\\nPaul: Did somebody just fall...\\n',\n",
       " '\\nMitchell: What is that?\\nJames: Can\\'t find my ginger ale with my eyes closed.\\nPaul: Don\\'t. Don\\'t find your ginger ale with your eyes closed.\\nJames: Where is it?\\nJustin: Just, \"oops\".\\nPaul: Did somebody just fall...\\nMitchell: Oh my god.\\n',\n",
       " '\\nMitchell: What is that?\\nJames: Can\\'t find my ginger ale with my eyes closed.\\nPaul: Don\\'t. Don\\'t find your ginger ale with your eyes closed.\\nJames: Where is it?\\nJustin: Just, \"oops\".\\nPaul: Did somebody just fall...\\nMitchell: Oh my god.\\nJames: That\\'s good.\\n',\n",
       " '\\nMitchell: What is that?\\nJames: Can\\'t find my ginger ale with my eyes closed.\\nPaul: Don\\'t. Don\\'t find your ginger ale with your eyes closed.\\nJames: Where is it?\\nJustin: Just, \"oops\".\\nPaul: Did somebody just fall...\\nMitchell: Oh my god.\\nJames: That\\'s good.\\nMitchell: Holy fuck.\\n',\n",
       " '\\nMitchell: What is that?\\nJames: Can\\'t find my ginger ale with my eyes closed.\\nPaul: Don\\'t. Don\\'t find your ginger ale with your eyes closed.\\nJames: Where is it?\\nJustin: Just, \"oops\".\\nPaul: Did somebody just fall...\\nMitchell: Oh my god.\\nJames: That\\'s good.\\nMitchell: Holy fuck.\\nJames: Now I can\\'t drink I\\'m laughing.\\n',\n",
       " '\\nMitchell: What is that?\\nJames: Can\\'t find my ginger ale with my eyes closed.\\nPaul: Don\\'t. Don\\'t find your ginger ale with your eyes closed.\\nJames: Where is it?\\nJustin: Just, \"oops\".\\nPaul: Did somebody just fall...\\nMitchell: Oh my god.\\nJames: That\\'s good.\\nMitchell: Holy fuck.\\nJames: Now I can\\'t drink I\\'m laughing.\\nJames: Fuck.\\n']"
      ]
     },
     "execution_count": 19,
     "metadata": {},
     "output_type": "execute_result"
    }
   ],
   "source": [
    "[example[\"prompt\"].split(\"```\")[-2].strip() for example in dataset[\"train\"].take(10)]"
   ]
  },
  {
   "cell_type": "code",
   "execution_count": 16,
   "metadata": {},
   "outputs": [
    {
     "name": "stdout",
     "output_type": "stream",
     "text": [
      "\n",
      "Mitchell: What is that?\n",
      "James: Can't find my ginger ale with my eyes closed.\n",
      "Paul: Don't. Don't find your ginger ale with your eyes closed.\n",
      "James: Where is it?\n",
      "Justin: Just, \"oops\".\n",
      "Paul: Did somebody just fall...\n",
      "\n"
     ]
    }
   ],
   "source": [
    "print()"
   ]
  },
  {
   "cell_type": "code",
   "execution_count": 15,
   "metadata": {},
   "outputs": [
    {
     "data": {
      "text/plain": [
       "202"
      ]
     },
     "execution_count": 15,
     "metadata": {},
     "output_type": "execute_result"
    }
   ],
   "source": [
    "end_len"
   ]
  },
  {
   "cell_type": "code",
   "execution_count": 8,
   "metadata": {},
   "outputs": [],
   "source": [
    "end_len = len(\"\"\"```\n",
    "Reminder - Assign one or more of the following tags to the last utterance (delimited by commas):\n",
    "'Accusation', 'Defense', 'Evidence', 'Identity Declaration', 'Interrogation', 'No Strategy'\n",
    "Assignment:\n",
    "\"\"\")"
   ]
  },
  {
   "cell_type": "code",
   "execution_count": null,
   "metadata": {},
   "outputs": [],
   "source": []
  }
 ],
 "metadata": {
  "kernelspec": {
   "display_name": "Python 3",
   "language": "python",
   "name": "python3"
  },
  "language_info": {
   "codemirror_mode": {
    "name": "ipython",
    "version": 3
   },
   "file_extension": ".py",
   "mimetype": "text/x-python",
   "name": "python",
   "nbconvert_exporter": "python",
   "pygments_lexer": "ipython3",
   "version": "3.10.14"
  }
 },
 "nbformat": 4,
 "nbformat_minor": 2
}
